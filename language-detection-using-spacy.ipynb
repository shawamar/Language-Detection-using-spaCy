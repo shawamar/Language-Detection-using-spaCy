{
 "cells": [
  {
   "cell_type": "markdown",
   "metadata": {},
   "source": [
    "# Language Detection using spacy\n",
    "<li> our main goal is to keep english tweets collected from twitter about Devoxx France event</li>\n",
    "<li> the tweets in our dataset are expressed in many languages such as french, english... </li>\n",
    "<li> Here we are using per trained [spaCy models](https://spacy.io/) to detect lenguage of the tweets.</li>"
   ]
  },
  {
   "cell_type": "markdown",
   "metadata": {},
   "source": [
    "<a href=\"#a\">1. Needed Libraries</a><br>\n",
    "<a href=\"#b\">2. Dataset</a><br>\n",
    "<a href=\"#c\">3. Implementation with langdetect</a><br>\n",
    "<a href=\"#d\">4. Implementation with spacy</a><br>\n",
    "<a href=\"#e\">5. Conclusion</a><br>"
   ]
  },
  {
   "cell_type": "markdown",
   "metadata": {},
   "source": [
    "# <a id=\"a\">1. Needed libraries</a>"
   ]
  },
  {
   "cell_type": "code",
   "execution_count": 1,
   "metadata": {},
   "outputs": [
    {
     "name": "stdout",
     "output_type": "stream",
     "text": [
      "Collecting spacy_cld\r\n",
      "  Downloading https://files.pythonhosted.org/packages/e3/3b/f5344007259b5beb0a8e0d7b9e6b0d2c5c4dcfe674bc94b7497bcc201ee0/spacy_cld-0.1.0.tar.gz\r\n",
      "Requirement already satisfied: spacy<3.0.0,>=2.0.0 in /opt/conda/lib/python3.6/site-packages (from spacy_cld) (2.1.8)\r\n",
      "Collecting pycld2>=0.31 (from spacy_cld)\r\n",
      "\u001b[?25l  Downloading https://files.pythonhosted.org/packages/21/77/8525fe5f147bf2819c7c9942c717c4a79b83f8003da1a3847759fb560909/pycld2-0.31.tar.gz (14.3MB)\r\n",
      "\u001b[K     |████████████████████████████████| 14.3MB 3.4MB/s \r\n",
      "\u001b[?25hRequirement already satisfied: numpy>=1.15.0 in /opt/conda/lib/python3.6/site-packages (from spacy<3.0.0,>=2.0.0->spacy_cld) (1.17.0)\r\n",
      "Requirement already satisfied: preshed<2.1.0,>=2.0.1 in /opt/conda/lib/python3.6/site-packages (from spacy<3.0.0,>=2.0.0->spacy_cld) (2.0.1)\r\n",
      "Requirement already satisfied: blis<0.3.0,>=0.2.2 in /opt/conda/lib/python3.6/site-packages (from spacy<3.0.0,>=2.0.0->spacy_cld) (0.2.4)\r\n",
      "Requirement already satisfied: thinc<7.1.0,>=7.0.8 in /opt/conda/lib/python3.6/site-packages (from spacy<3.0.0,>=2.0.0->spacy_cld) (7.0.8)\r\n",
      "Requirement already satisfied: murmurhash<1.1.0,>=0.28.0 in /opt/conda/lib/python3.6/site-packages (from spacy<3.0.0,>=2.0.0->spacy_cld) (1.0.2)\r\n",
      "Requirement already satisfied: plac<1.0.0,>=0.9.6 in /opt/conda/lib/python3.6/site-packages (from spacy<3.0.0,>=2.0.0->spacy_cld) (0.9.6)\r\n",
      "Requirement already satisfied: wasabi<1.1.0,>=0.2.0 in /opt/conda/lib/python3.6/site-packages (from spacy<3.0.0,>=2.0.0->spacy_cld) (0.2.2)\r\n",
      "Requirement already satisfied: srsly<1.1.0,>=0.0.6 in /opt/conda/lib/python3.6/site-packages (from spacy<3.0.0,>=2.0.0->spacy_cld) (0.1.0)\r\n",
      "Requirement already satisfied: requests<3.0.0,>=2.13.0 in /opt/conda/lib/python3.6/site-packages (from spacy<3.0.0,>=2.0.0->spacy_cld) (2.22.0)\r\n",
      "Requirement already satisfied: cymem<2.1.0,>=2.0.2 in /opt/conda/lib/python3.6/site-packages (from spacy<3.0.0,>=2.0.0->spacy_cld) (2.0.2)\r\n",
      "Requirement already satisfied: tqdm<5.0.0,>=4.10.0 in /opt/conda/lib/python3.6/site-packages (from thinc<7.1.0,>=7.0.8->spacy<3.0.0,>=2.0.0->spacy_cld) (4.32.1)\r\n",
      "Requirement already satisfied: idna<2.9,>=2.5 in /opt/conda/lib/python3.6/site-packages (from requests<3.0.0,>=2.13.0->spacy<3.0.0,>=2.0.0->spacy_cld) (2.8)\r\n",
      "Requirement already satisfied: urllib3!=1.25.0,!=1.25.1,<1.26,>=1.21.1 in /opt/conda/lib/python3.6/site-packages (from requests<3.0.0,>=2.13.0->spacy<3.0.0,>=2.0.0->spacy_cld) (1.24.2)\r\n",
      "Requirement already satisfied: certifi>=2017.4.17 in /opt/conda/lib/python3.6/site-packages (from requests<3.0.0,>=2.13.0->spacy<3.0.0,>=2.0.0->spacy_cld) (2019.6.16)\r\n",
      "Requirement already satisfied: chardet<3.1.0,>=3.0.2 in /opt/conda/lib/python3.6/site-packages (from requests<3.0.0,>=2.13.0->spacy<3.0.0,>=2.0.0->spacy_cld) (3.0.4)\r\n",
      "Building wheels for collected packages: spacy-cld, pycld2\r\n",
      "  Building wheel for spacy-cld (setup.py) ... \u001b[?25l-\b \b\\\b \bdone\r\n",
      "\u001b[?25h  Created wheel for spacy-cld: filename=spacy_cld-0.1.0-cp36-none-any.whl size=4065 sha256=0aaf2cf0ad1d7b249f2607fc241c8fa78c214f9ed7d156efd3dccf3d96fa0030\r\n",
      "  Stored in directory: /tmp/.cache/pip/wheels/7e/a6/a5/604befa6807cc78a6852be9e933c080362b2498fca796cd34e\r\n",
      "  Building wheel for pycld2 (setup.py) ... \u001b[?25l-\b \b\\\b \b|\b \b/\b \b-\b \b\\\b \b|\b \b/\b \b-\b \b\\\b \b|\b \b/\b \b-\b \b\\\b \b|\b \b/\b \b-\b \b\\\b \b|\b \b/\b \b-\b \b\\\b \bdone\r\n",
      "\u001b[?25h  Created wheel for pycld2: filename=pycld2-0.31-cp36-cp36m-linux_x86_64.whl size=9812819 sha256=55591d767ee5d0450ec62f46d2ff958e9f73b0417aefc54ab6ec98ba2de88ef6\r\n",
      "  Stored in directory: /tmp/.cache/pip/wheels/7b/44/44/ec4c5e25e095f02aa0e63ef2bf0cc8badda5877330ffa5fbe4\r\n",
      "Successfully built spacy-cld pycld2\r\n",
      "Installing collected packages: pycld2, spacy-cld\r\n",
      "Successfully installed pycld2-0.31 spacy-cld-0.1.0\r\n"
     ]
    }
   ],
   "source": [
    "!pip install spacy_cld"
   ]
  },
  {
   "cell_type": "code",
   "execution_count": 2,
   "metadata": {
    "_cell_guid": "b1076dfc-b9ad-4769-8c92-a6c4dae69d19",
    "_uuid": "8f2839f25d086af736a60e9eeb907d3b93b6e0e5"
   },
   "outputs": [
    {
     "name": "stdout",
     "output_type": "stream",
     "text": [
      "['data.csv']\n"
     ]
    }
   ],
   "source": [
    "import numpy as np \n",
    "import pandas as pd\n",
    "import re\n",
    "import spacy\n",
    "from spacy_cld import LanguageDetector\n",
    "\n",
    "\n",
    "import langdetect\n",
    "import langid\n",
    "\n",
    "import os\n",
    "print(os.listdir(\"../input\"))"
   ]
  },
  {
   "cell_type": "code",
   "execution_count": 3,
   "metadata": {},
   "outputs": [],
   "source": [
    "# function for data cleaning..\n",
    "def remove_xml(text):\n",
    "    return re.sub(r'<[^<]+?>', '', text)\n",
    "\n",
    "def remove_newlines(text):\n",
    "    return text.replace('\\n', ' ') \n",
    "    \n",
    "\n",
    "def remove_manyspaces(text):\n",
    "    return re.sub(r'\\s+', ' ', text)\n",
    "\n",
    "def clean_text(text):\n",
    "    text = remove_xml(text)\n",
    "    text = remove_newlines(text)\n",
    "    text = remove_manyspaces(text)\n",
    "    return text"
   ]
  },
  {
   "cell_type": "markdown",
   "metadata": {},
   "source": [
    "# <a id=\"b\">2. Dataset</a>"
   ]
  },
  {
   "cell_type": "code",
   "execution_count": 4,
   "metadata": {},
   "outputs": [
    {
     "data": {
      "text/html": [
       "<div>\n",
       "<style scoped>\n",
       "    .dataframe tbody tr th:only-of-type {\n",
       "        vertical-align: middle;\n",
       "    }\n",
       "\n",
       "    .dataframe tbody tr th {\n",
       "        vertical-align: top;\n",
       "    }\n",
       "\n",
       "    .dataframe thead th {\n",
       "        text-align: right;\n",
       "    }\n",
       "</style>\n",
       "<table border=\"1\" class=\"dataframe\">\n",
       "  <thead>\n",
       "    <tr style=\"text-align: right;\">\n",
       "      <th></th>\n",
       "      <th>tweets</th>\n",
       "    </tr>\n",
       "  </thead>\n",
       "  <tbody>\n",
       "    <tr>\n",
       "      <th>0</th>\n",
       "      <td>RT @Alexandre_Roman: #PKS 1.4 is out 🥳\\r\\nSo m...</td>\n",
       "    </tr>\n",
       "    <tr>\n",
       "      <th>1</th>\n",
       "      <td>RT @AmelieBenoit33: Hello public de #DevoxxFr,...</td>\n",
       "    </tr>\n",
       "    <tr>\n",
       "      <th>2</th>\n",
       "      <td>#PKS 1.4 is out 🥳\\r\\nSo many features:\\r\\n - #...</td>\n",
       "    </tr>\n",
       "    <tr>\n",
       "      <th>3</th>\n",
       "      <td>cc @val_deleplace it is the article we were ta...</td>\n",
       "    </tr>\n",
       "    <tr>\n",
       "      <th>4</th>\n",
       "      <td>RT @kaastore: 😁 un sourire = un cadeau 🎁\\r\\nKa...</td>\n",
       "    </tr>\n",
       "  </tbody>\n",
       "</table>\n",
       "</div>"
      ],
      "text/plain": [
       "                                              tweets\n",
       "0  RT @Alexandre_Roman: #PKS 1.4 is out 🥳\\r\\nSo m...\n",
       "1  RT @AmelieBenoit33: Hello public de #DevoxxFr,...\n",
       "2  #PKS 1.4 is out 🥳\\r\\nSo many features:\\r\\n - #...\n",
       "3  cc @val_deleplace it is the article we were ta...\n",
       "4  RT @kaastore: 😁 un sourire = un cadeau 🎁\\r\\nKa..."
      ]
     },
     "execution_count": 4,
     "metadata": {},
     "output_type": "execute_result"
    }
   ],
   "source": [
    "df = pd.read_csv('../input/data.csv')\n",
    "df.head()"
   ]
  },
  {
   "cell_type": "code",
   "execution_count": 5,
   "metadata": {},
   "outputs": [],
   "source": [
    "#Loading dataset  in tweets.\n",
    "tweets    = df['tweets']"
   ]
  },
  {
   "cell_type": "markdown",
   "metadata": {},
   "source": [
    "Cleaning the Data in the dataset by removing XML, extra spaces, and newlines."
   ]
  },
  {
   "cell_type": "code",
   "execution_count": 6,
   "metadata": {},
   "outputs": [
    {
     "data": {
      "text/html": [
       "<div>\n",
       "<style scoped>\n",
       "    .dataframe tbody tr th:only-of-type {\n",
       "        vertical-align: middle;\n",
       "    }\n",
       "\n",
       "    .dataframe tbody tr th {\n",
       "        vertical-align: top;\n",
       "    }\n",
       "\n",
       "    .dataframe thead th {\n",
       "        text-align: right;\n",
       "    }\n",
       "</style>\n",
       "<table border=\"1\" class=\"dataframe\">\n",
       "  <thead>\n",
       "    <tr style=\"text-align: right;\">\n",
       "      <th></th>\n",
       "      <th>tweets</th>\n",
       "    </tr>\n",
       "  </thead>\n",
       "  <tbody>\n",
       "    <tr>\n",
       "      <th>0</th>\n",
       "      <td>RT @Alexandre_Roman: #PKS 1.4 is out 🥳\\r\\nSo m...</td>\n",
       "    </tr>\n",
       "    <tr>\n",
       "      <th>1</th>\n",
       "      <td>RT @AmelieBenoit33: Hello public de #DevoxxFr,...</td>\n",
       "    </tr>\n",
       "    <tr>\n",
       "      <th>2</th>\n",
       "      <td>#PKS 1.4 is out 🥳\\r\\nSo many features:\\r\\n - #...</td>\n",
       "    </tr>\n",
       "    <tr>\n",
       "      <th>3</th>\n",
       "      <td>cc @val_deleplace it is the article we were ta...</td>\n",
       "    </tr>\n",
       "    <tr>\n",
       "      <th>4</th>\n",
       "      <td>RT @kaastore: 😁 un sourire = un cadeau 🎁\\r\\nKa...</td>\n",
       "    </tr>\n",
       "  </tbody>\n",
       "</table>\n",
       "</div>"
      ],
      "text/plain": [
       "                                              tweets\n",
       "0  RT @Alexandre_Roman: #PKS 1.4 is out 🥳\\r\\nSo m...\n",
       "1  RT @AmelieBenoit33: Hello public de #DevoxxFr,...\n",
       "2  #PKS 1.4 is out 🥳\\r\\nSo many features:\\r\\n - #...\n",
       "3  cc @val_deleplace it is the article we were ta...\n",
       "4  RT @kaastore: 😁 un sourire = un cadeau 🎁\\r\\nKa..."
      ]
     },
     "execution_count": 6,
     "metadata": {},
     "output_type": "execute_result"
    }
   ],
   "source": [
    "for line in tweets:\n",
    "    line=clean_text(line)\n",
    "df.head()"
   ]
  },
  {
   "cell_type": "markdown",
   "metadata": {},
   "source": [
    "Here is the view of samll portion of cleaned dataset taken for language detection.\n",
    "#### the code below is needed in the next sections :"
   ]
  },
  {
   "cell_type": "markdown",
   "metadata": {},
   "source": [
    "# <a id=\"c\">3. Implementation with langdetect </a>"
   ]
  },
  {
   "cell_type": "code",
   "execution_count": 7,
   "metadata": {},
   "outputs": [],
   "source": [
    "\"\"\"\n",
    "result = str(result[0])[:2] : keeping the most dominant language wich is situated \n",
    "in the 1st index, and we store the first 2 characters\n",
    "\"\"\"\n",
    "\n",
    "languages_langdetect = []\n",
    "\n",
    "# the try except blook because there is some tweets contain links\n",
    "for line in tweets:\n",
    "    try:\n",
    "        result = langdetect.detect_langs(line)\n",
    "        result = str(result[0])[:2]\n",
    "    except:\n",
    "        result = 'unknown'\n",
    "    \n",
    "    finally:\n",
    "        languages_langdetect.append(result)"
   ]
  },
  {
   "cell_type": "markdown",
   "metadata": {},
   "source": [
    "# <a id=\"d\">4. Implementation with spacy </a>"
   ]
  },
  {
   "cell_type": "code",
   "execution_count": 8,
   "metadata": {
    "_kg_hide-input": false,
    "_kg_hide-output": true
   },
   "outputs": [],
   "source": [
    "nlp = spacy.load('en')\n",
    "language_detector = LanguageDetector()\n",
    "nlp.add_pipe(language_detector)"
   ]
  },
  {
   "cell_type": "code",
   "execution_count": 9,
   "metadata": {},
   "outputs": [],
   "source": [
    "\"\"\"\n",
    "doc._.languages returns : list of str\n",
    "like : ['fr'] -> french\n",
    "       ['en'] -> english\n",
    "       [] -> empty\n",
    "       ['fr','en'] -> french (the most dominant in a tweet) and english (least dominant)\n",
    "\"\"\"\n",
    "\n",
    "tweets          = df['tweets']\n",
    "languages_spacy = []\n",
    "\n",
    "for e in tweets:\n",
    "    doc = nlp(e)\n",
    "    # cheking if the doc._.languages is not empty\n",
    "    # then appending the first detected language in a list\n",
    "    if(doc._.languages):\n",
    "        languages_spacy.append(doc._.languages[0])\n",
    "    # if it is empty, we append the list by unknown\n",
    "    else:\n",
    "        languages_spacy.append('unknown')"
   ]
  },
  {
   "cell_type": "markdown",
   "metadata": {},
   "source": [
    "### Adding a column in the dataframe containing the language of the tweet"
   ]
  },
  {
   "cell_type": "code",
   "execution_count": 10,
   "metadata": {},
   "outputs": [],
   "source": [
    "df['languages_spacy'] = languages_spacy\n",
    "df['languages_langdetect'] = languages_langdetect"
   ]
  },
  {
   "cell_type": "markdown",
   "metadata": {},
   "source": [
    "* **tweets :** denotees the tweets of the dataset\n",
    "* **languages_spacy :** It shows the sentence which were found to be in english (en) by spacy model.\n",
    "* **languages_langdetect :** It shows the language of the sentence."
   ]
  },
  {
   "cell_type": "code",
   "execution_count": 11,
   "metadata": {},
   "outputs": [
    {
     "data": {
      "text/html": [
       "<div>\n",
       "<style scoped>\n",
       "    .dataframe tbody tr th:only-of-type {\n",
       "        vertical-align: middle;\n",
       "    }\n",
       "\n",
       "    .dataframe tbody tr th {\n",
       "        vertical-align: top;\n",
       "    }\n",
       "\n",
       "    .dataframe thead th {\n",
       "        text-align: right;\n",
       "    }\n",
       "</style>\n",
       "<table border=\"1\" class=\"dataframe\">\n",
       "  <thead>\n",
       "    <tr style=\"text-align: right;\">\n",
       "      <th></th>\n",
       "      <th>tweets</th>\n",
       "      <th>languages_spacy</th>\n",
       "      <th>languages_langdetect</th>\n",
       "    </tr>\n",
       "  </thead>\n",
       "  <tbody>\n",
       "    <tr>\n",
       "      <th>0</th>\n",
       "      <td>RT @Alexandre_Roman: #PKS 1.4 is out 🥳\\r\\nSo m...</td>\n",
       "      <td>en</td>\n",
       "      <td>en</td>\n",
       "    </tr>\n",
       "    <tr>\n",
       "      <th>1</th>\n",
       "      <td>RT @AmelieBenoit33: Hello public de #DevoxxFr,...</td>\n",
       "      <td>unknown</td>\n",
       "      <td>fr</td>\n",
       "    </tr>\n",
       "    <tr>\n",
       "      <th>2</th>\n",
       "      <td>#PKS 1.4 is out 🥳\\r\\nSo many features:\\r\\n - #...</td>\n",
       "      <td>en</td>\n",
       "      <td>en</td>\n",
       "    </tr>\n",
       "    <tr>\n",
       "      <th>3</th>\n",
       "      <td>cc @val_deleplace it is the article we were ta...</td>\n",
       "      <td>en</td>\n",
       "      <td>en</td>\n",
       "    </tr>\n",
       "    <tr>\n",
       "      <th>4</th>\n",
       "      <td>RT @kaastore: 😁 un sourire = un cadeau 🎁\\r\\nKa...</td>\n",
       "      <td>unknown</td>\n",
       "      <td>fr</td>\n",
       "    </tr>\n",
       "  </tbody>\n",
       "</table>\n",
       "</div>"
      ],
      "text/plain": [
       "                                              tweets languages_spacy  \\\n",
       "0  RT @Alexandre_Roman: #PKS 1.4 is out 🥳\\r\\nSo m...              en   \n",
       "1  RT @AmelieBenoit33: Hello public de #DevoxxFr,...         unknown   \n",
       "2  #PKS 1.4 is out 🥳\\r\\nSo many features:\\r\\n - #...              en   \n",
       "3  cc @val_deleplace it is the article we were ta...              en   \n",
       "4  RT @kaastore: 😁 un sourire = un cadeau 🎁\\r\\nKa...         unknown   \n",
       "\n",
       "  languages_langdetect  \n",
       "0                   en  \n",
       "1                   fr  \n",
       "2                   en  \n",
       "3                   en  \n",
       "4                   fr  "
      ]
     },
     "execution_count": 11,
     "metadata": {},
     "output_type": "execute_result"
    }
   ],
   "source": [
    "df.head()"
   ]
  },
  {
   "cell_type": "markdown",
   "metadata": {},
   "source": [
    "# <a id=\"e\">5. Conclusion</a>\n",
    "<li>spacy returns 1582 en tweets </li>\n",
    "<li>langdetect returns 1018 en tweets</li>"
   ]
  },
  {
   "cell_type": "code",
   "execution_count": 12,
   "metadata": {},
   "outputs": [
    {
     "data": {
      "text/plain": [
       "fr         1813\n",
       "en         1582\n",
       "unknown     683\n",
       "mfe           1\n",
       "da            1\n",
       "crs           1\n",
       "lb            1\n",
       "ca            1\n",
       "sa            1\n",
       "gl            1\n",
       "Name: languages_spacy, dtype: int64"
      ]
     },
     "execution_count": 12,
     "metadata": {},
     "output_type": "execute_result"
    }
   ],
   "source": [
    "df['languages_spacy'].value_counts()"
   ]
  },
  {
   "cell_type": "code",
   "execution_count": 13,
   "metadata": {},
   "outputs": [
    {
     "data": {
      "text/plain": [
       "fr         2701\n",
       "en         1020\n",
       "nl          117\n",
       "ca           71\n",
       "ro           31\n",
       "da           22\n",
       "de           22\n",
       "it           21\n",
       "af           19\n",
       "es           10\n",
       "sl            9\n",
       "no            8\n",
       "sv            7\n",
       "tr            7\n",
       "so            4\n",
       "pt            4\n",
       "cs            2\n",
       "sk            2\n",
       "fi            2\n",
       "pl            1\n",
       "unknown       1\n",
       "id            1\n",
       "hr            1\n",
       "sw            1\n",
       "et            1\n",
       "Name: languages_langdetect, dtype: int64"
      ]
     },
     "execution_count": 13,
     "metadata": {},
     "output_type": "execute_result"
    }
   ],
   "source": [
    "df['languages_langdetect'].value_counts()"
   ]
  },
  {
   "cell_type": "code",
   "execution_count": 14,
   "metadata": {},
   "outputs": [
    {
     "name": "stderr",
     "output_type": "stream",
     "text": [
      "/opt/conda/lib/python3.6/site-packages/tensorflow/python/framework/dtypes.py:516: FutureWarning: Passing (type, 1) or '1type' as a synonym of type is deprecated; in a future version of numpy, it will be understood as (type, (1,)) / '(1,)type'.\n",
      "  _np_qint8 = np.dtype([(\"qint8\", np.int8, 1)])\n",
      "/opt/conda/lib/python3.6/site-packages/tensorflow/python/framework/dtypes.py:517: FutureWarning: Passing (type, 1) or '1type' as a synonym of type is deprecated; in a future version of numpy, it will be understood as (type, (1,)) / '(1,)type'.\n",
      "  _np_quint8 = np.dtype([(\"quint8\", np.uint8, 1)])\n",
      "/opt/conda/lib/python3.6/site-packages/tensorflow/python/framework/dtypes.py:518: FutureWarning: Passing (type, 1) or '1type' as a synonym of type is deprecated; in a future version of numpy, it will be understood as (type, (1,)) / '(1,)type'.\n",
      "  _np_qint16 = np.dtype([(\"qint16\", np.int16, 1)])\n",
      "/opt/conda/lib/python3.6/site-packages/tensorflow/python/framework/dtypes.py:519: FutureWarning: Passing (type, 1) or '1type' as a synonym of type is deprecated; in a future version of numpy, it will be understood as (type, (1,)) / '(1,)type'.\n",
      "  _np_quint16 = np.dtype([(\"quint16\", np.uint16, 1)])\n",
      "/opt/conda/lib/python3.6/site-packages/tensorflow/python/framework/dtypes.py:520: FutureWarning: Passing (type, 1) or '1type' as a synonym of type is deprecated; in a future version of numpy, it will be understood as (type, (1,)) / '(1,)type'.\n",
      "  _np_qint32 = np.dtype([(\"qint32\", np.int32, 1)])\n",
      "/opt/conda/lib/python3.6/site-packages/tensorflow/python/framework/dtypes.py:525: FutureWarning: Passing (type, 1) or '1type' as a synonym of type is deprecated; in a future version of numpy, it will be understood as (type, (1,)) / '(1,)type'.\n",
      "  np_resource = np.dtype([(\"resource\", np.ubyte, 1)])\n",
      "/opt/conda/lib/python3.6/site-packages/tensorboard/compat/tensorflow_stub/dtypes.py:541: FutureWarning: Passing (type, 1) or '1type' as a synonym of type is deprecated; in a future version of numpy, it will be understood as (type, (1,)) / '(1,)type'.\n",
      "  _np_qint8 = np.dtype([(\"qint8\", np.int8, 1)])\n",
      "/opt/conda/lib/python3.6/site-packages/tensorboard/compat/tensorflow_stub/dtypes.py:542: FutureWarning: Passing (type, 1) or '1type' as a synonym of type is deprecated; in a future version of numpy, it will be understood as (type, (1,)) / '(1,)type'.\n",
      "  _np_quint8 = np.dtype([(\"quint8\", np.uint8, 1)])\n",
      "/opt/conda/lib/python3.6/site-packages/tensorboard/compat/tensorflow_stub/dtypes.py:543: FutureWarning: Passing (type, 1) or '1type' as a synonym of type is deprecated; in a future version of numpy, it will be understood as (type, (1,)) / '(1,)type'.\n",
      "  _np_qint16 = np.dtype([(\"qint16\", np.int16, 1)])\n",
      "/opt/conda/lib/python3.6/site-packages/tensorboard/compat/tensorflow_stub/dtypes.py:544: FutureWarning: Passing (type, 1) or '1type' as a synonym of type is deprecated; in a future version of numpy, it will be understood as (type, (1,)) / '(1,)type'.\n",
      "  _np_quint16 = np.dtype([(\"quint16\", np.uint16, 1)])\n",
      "/opt/conda/lib/python3.6/site-packages/tensorboard/compat/tensorflow_stub/dtypes.py:545: FutureWarning: Passing (type, 1) or '1type' as a synonym of type is deprecated; in a future version of numpy, it will be understood as (type, (1,)) / '(1,)type'.\n",
      "  _np_qint32 = np.dtype([(\"qint32\", np.int32, 1)])\n",
      "/opt/conda/lib/python3.6/site-packages/tensorboard/compat/tensorflow_stub/dtypes.py:550: FutureWarning: Passing (type, 1) or '1type' as a synonym of type is deprecated; in a future version of numpy, it will be understood as (type, (1,)) / '(1,)type'.\n",
      "  np_resource = np.dtype([(\"resource\", np.ubyte, 1)])\n"
     ]
    }
   ],
   "source": [
    "df.to_csv('Detected_Languages.csv',index=False)"
   ]
  },
  {
   "cell_type": "code",
   "execution_count": null,
   "metadata": {},
   "outputs": [],
   "source": []
  }
 ],
 "metadata": {
  "kernelspec": {
   "display_name": "Python 3",
   "language": "python",
   "name": "python3"
  },
  "language_info": {
   "codemirror_mode": {
    "name": "ipython",
    "version": 3
   },
   "file_extension": ".py",
   "mimetype": "text/x-python",
   "name": "python",
   "nbconvert_exporter": "python",
   "pygments_lexer": "ipython3",
   "version": "3.6.6"
  }
 },
 "nbformat": 4,
 "nbformat_minor": 1
}
